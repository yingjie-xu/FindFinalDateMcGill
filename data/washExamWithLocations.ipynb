{
  "nbformat": 4,
  "nbformat_minor": 0,
  "metadata": {
    "colab": {
      "name": "washExamWithLocations.ipynb",
      "provenance": [],
      "collapsed_sections": [],
      "toc_visible": true,
      "include_colab_link": true
    },
    "language_info": {
      "codemirror_mode": {
        "name": "ipython",
        "version": 3
      },
      "file_extension": ".py",
      "mimetype": "text/x-python",
      "name": "python",
      "nbconvert_exporter": "python",
      "pygments_lexer": "ipython3",
      "version": "3.7.3"
    },
    "kernelspec": {
      "display_name": "Python 3",
      "language": "python",
      "name": "python3"
    }
  },
  "cells": [
    {
      "cell_type": "markdown",
      "metadata": {
        "id": "view-in-github",
        "colab_type": "text"
      },
      "source": [
        "<a href=\"https://colab.research.google.com/github/yingjie-xu/FindFinalDateMcGill/blob/master/data/washExamWithLocations.ipynb\" target=\"_parent\"><img src=\"https://colab.research.google.com/assets/colab-badge.svg\" alt=\"Open In Colab\"/></a>"
      ]
    },
    {
      "cell_type": "markdown",
      "metadata": {
        "id": "Ssv5i7OIn10T",
        "colab_type": "text"
      },
      "source": [
        "# Final Exam Data \n",
        "tabula-py\n"
      ]
    },
    {
      "cell_type": "markdown",
      "metadata": {
        "id": "UvnC9oESpIgF",
        "colab_type": "text"
      },
      "source": [
        "## Check Java environment and install tabula-py\n",
        "\n",
        "tabula-py requires java environment so let's check the java environment on your machine."
      ]
    },
    {
      "cell_type": "code",
      "metadata": {
        "id": "02CnPUI6mKNc",
        "colab_type": "code",
        "colab": {}
      },
      "source": [
        "!java -version"
      ],
      "execution_count": null,
      "outputs": []
    },
    {
      "cell_type": "markdown",
      "metadata": {
        "id": "JtB6sfV_pYOX",
        "colab_type": "text"
      },
      "source": [
        "After confirming the java environment, install tabula-py by using pip."
      ]
    },
    {
      "cell_type": "code",
      "metadata": {
        "id": "wc52T-1WpfOC",
        "colab_type": "code",
        "colab": {}
      },
      "source": [
        "# To be more precisely, it's better to use `{sys.executable} -m pip install tabula-py`\n",
        "!pip install -q tabula-py"
      ],
      "execution_count": null,
      "outputs": []
    },
    {
      "cell_type": "markdown",
      "metadata": {
        "id": "Xp4yGv7BpsIq",
        "colab_type": "text"
      },
      "source": [
        "Before trying tabula-py, check your environment via tabula-py `environment_info()` function, which shows Python version, Java version, and your OS environment."
      ]
    },
    {
      "cell_type": "code",
      "metadata": {
        "id": "pda4jjbIp3MN",
        "colab_type": "code",
        "colab": {}
      },
      "source": [
        "import pandas as pd\n",
        "import tabula"
      ],
      "execution_count": null,
      "outputs": []
    },
    {
      "cell_type": "code",
      "metadata": {
        "id": "9WPnL5QwluSo",
        "colab_type": "code",
        "colab": {}
      },
      "source": [
        "pdf_path = \"https://www.mcgill.ca/exams/files/exams/april_2019_final_alpha_schedule_with_room_locations_4.pdf\"\n",
        "tabula.convert_into(pdf_path, \"test.csv\", output_format=\"csv\", pages=\"all\", stream=True)"
      ],
      "execution_count": null,
      "outputs": []
    },
    {
      "cell_type": "code",
      "metadata": {
        "id": "q68aRGCRLqHu",
        "colab_type": "code",
        "colab": {}
      },
      "source": [
        "df = pd.read_csv(\"./test.csv\")\n",
        "df = df[~df['COURSE NUMBER'].isnull()]\n",
        "df.to_json(\"data.json\", orient='records')"
      ],
      "execution_count": null,
      "outputs": []
    }
  ]
}